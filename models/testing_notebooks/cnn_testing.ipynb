{
 "cells": [
  {
   "cell_type": "code",
   "execution_count": 6,
   "metadata": {},
   "outputs": [],
   "source": [
    "import torch\n",
    "import torch.nn as nn"
   ]
  },
  {
   "cell_type": "code",
   "execution_count": 7,
   "metadata": {},
   "outputs": [],
   "source": [
    "def test_conv_output_size(input_tensor, conv_layer):\n",
    "    output_tensor = conv_layer(input_tensor)\n",
    "    print(f\"Output size: {output_tensor.size()}\")"
   ]
  },
  {
   "cell_type": "code",
   "execution_count": 8,
   "metadata": {},
   "outputs": [],
   "source": [
    "input_tensor = torch.randn(1, 4, 1000)  # 1 sequence, 4 channels (A, C, G, T), 1000 bases long\n"
   ]
  },
  {
   "cell_type": "code",
   "execution_count": 9,
   "metadata": {},
   "outputs": [
    {
     "name": "stdout",
     "output_type": "stream",
     "text": [
      "Example 1 - No Padding, Stride=1:\n",
      "Output size: torch.Size([1, 16, 980])\n"
     ]
    }
   ],
   "source": [
    "# Example 1: Convolution without padding and stride=1\n",
    "conv1 = nn.Conv1d(in_channels=4, out_channels=16, kernel_size=21, stride=1, padding=0)\n",
    "print(\"Example 1 - No Padding, Stride=1:\")\n",
    "test_conv_output_size(input_tensor, conv1)"
   ]
  },
  {
   "cell_type": "markdown",
   "metadata": {},
   "source": [
    "so basically the length decreased because we dont have padding, this is basically how convolution works, also notice we go from 4D sequence to 16 convolutional filters"
   ]
  },
  {
   "cell_type": "code",
   "execution_count": 10,
   "metadata": {},
   "outputs": [
    {
     "name": "stdout",
     "output_type": "stream",
     "text": [
      "Example 2 - Padding=10, Stride=1:\n",
      "Output size: torch.Size([1, 16, 1000])\n"
     ]
    }
   ],
   "source": [
    "\n",
    "# Example 2: Convolution with padding to maintain sequence length and stride=1\n",
    "conv2 = nn.Conv1d(in_channels=4, out_channels=16, kernel_size=21, stride=1, padding=10)\n",
    "print(\"Example 2 - Padding=10, Stride=1:\")\n",
    "test_conv_output_size(input_tensor, conv2)\n"
   ]
  },
  {
   "cell_type": "code",
   "execution_count": 11,
   "metadata": {},
   "outputs": [
    {
     "name": "stdout",
     "output_type": "stream",
     "text": [
      "Example 3 - Padding=10, Stride=2:\n",
      "Output size: torch.Size([1, 16, 500])\n"
     ]
    }
   ],
   "source": [
    "\n",
    "# Example 3: Convolution with padding and stride=2\n",
    "conv3 = nn.Conv1d(in_channels=4, out_channels=16, kernel_size=21, stride=2, padding=10)\n",
    "print(\"Example 3 - Padding=10, Stride=2:\")\n",
    "test_conv_output_size(input_tensor, conv3)\n"
   ]
  },
  {
   "cell_type": "code",
   "execution_count": 12,
   "metadata": {},
   "outputs": [
    {
     "name": "stdout",
     "output_type": "stream",
     "text": [
      "Example 4 - No Padding, Stride=1, Dilation=2:\n",
      "Output size: torch.Size([1, 16, 960])\n"
     ]
    }
   ],
   "source": [
    "\n",
    "# Example 4: Dilated convolution\n",
    "conv4 = nn.Conv1d(in_channels=4, out_channels=16, kernel_size=21, stride=1, padding=0, dilation=2)\n",
    "print(\"Example 4 - No Padding, Stride=1, Dilation=2:\")\n",
    "test_conv_output_size(input_tensor, conv4)\n"
   ]
  },
  {
   "cell_type": "code",
   "execution_count": 13,
   "metadata": {},
   "outputs": [
    {
     "name": "stdout",
     "output_type": "stream",
     "text": [
      "Example 5 - Padding=20, Stride=1, Dilation=2:\n",
      "Output size: torch.Size([1, 16, 1000])\n"
     ]
    }
   ],
   "source": [
    "\n",
    "\n",
    "# Example 5: Dilated convolution with padding\n",
    "conv5 = nn.Conv1d(in_channels=4, out_channels=16, kernel_size=21, stride=1, padding=20, dilation=2)\n",
    "print(\"Example 5 - Padding=20, Stride=1, Dilation=2:\")\n",
    "test_conv_output_size(input_tensor, conv5)"
   ]
  },
  {
   "cell_type": "code",
   "execution_count": 3,
   "metadata": {},
   "outputs": [
    {
     "data": {
      "text/plain": [
       "Conv1d(4, 16, kernel_size=(21,), stride=(1,), padding=(10,))"
      ]
     },
     "execution_count": 3,
     "metadata": {},
     "output_type": "execute_result"
    }
   ],
   "source": [
    "conv_layer"
   ]
  },
  {
   "cell_type": "code",
   "execution_count": 15,
   "metadata": {},
   "outputs": [
    {
     "data": {
      "text/plain": [
       "10.0"
      ]
     },
     "execution_count": 15,
     "metadata": {},
     "output_type": "execute_result"
    }
   ],
   "source": []
  },
  {
   "cell_type": "code",
   "execution_count": null,
   "metadata": {},
   "outputs": [],
   "source": []
  }
 ],
 "metadata": {
  "kernelspec": {
   "display_name": "chrombpnet",
   "language": "python",
   "name": "python3"
  },
  "language_info": {
   "codemirror_mode": {
    "name": "ipython",
    "version": 3
   },
   "file_extension": ".py",
   "mimetype": "text/x-python",
   "name": "python",
   "nbconvert_exporter": "python",
   "pygments_lexer": "ipython3",
   "version": "3.8.20"
  }
 },
 "nbformat": 4,
 "nbformat_minor": 2
}
