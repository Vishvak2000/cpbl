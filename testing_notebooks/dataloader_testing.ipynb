{
 "cells": [
  {
   "cell_type": "code",
   "execution_count": 1,
   "metadata": {},
   "outputs": [],
   "source": [
    "import torch\n",
    "import torch.nn as nn\n",
    "\n",
    "import sys\n",
    "import os\n",
    "\n",
    "# Add the parent directory to the Python path\n",
    "sys.path.append(os.path.abspath(os.path.join('..')))\n",
    "\n",
    "from models._data import ChromatinDataset\n"
   ]
  },
  {
   "cell_type": "code",
   "execution_count": 2,
   "metadata": {},
   "outputs": [],
   "source": [
    "from utils.data_utils import process_bed"
   ]
  },
  {
   "cell_type": "code",
   "execution_count": 3,
   "metadata": {},
   "outputs": [
    {
     "name": "stdout",
     "output_type": "stream",
     "text": [
      "Read in bed file of 6013 peaks\n"
     ]
    }
   ],
   "source": [
    "test_bed = process_bed(\"/gladstone/corces/lab/users/vishvak/chrombpnet_tutorial/own_data/test.chr1.adjusted.bed\")"
   ]
  },
  {
   "cell_type": "code",
   "execution_count": 4,
   "metadata": {},
   "outputs": [
    {
     "name": "stdout",
     "output_type": "stream",
     "text": [
      "Read in bed file of 6013 peaks\n",
      "Read in bed file of 16900 peaks\n",
      "-1000    6013\n",
      "Name: count, dtype: int64\n",
      "-1000    16900\n",
      "Name: count, dtype: int64\n"
     ]
    }
   ],
   "source": [
    "dataset = ChromatinDataset(\n",
    "    peak_regions=\"/gladstone/corces/lab/users/vishvak/chrombpnet_tutorial/own_data/test.chr1.adjusted.bed\",\n",
    "    nonpeak_regions=\"/gladstone/corces/lab/users/vishvak/chrombpnet_tutorial/own_data/test.chr1.negatives.adjusted.bed\",\n",
    "    genome_fasta=\"/gladstone/corces/lab/users/vishvak/chrombpnet_tutorial/own_data/chr1.fa\",\n",
    "    cts_bw_file=\"/gladstone/corces/lab/users/vishvak/chrombpnet_tutorial/own_data/test.chr1.bw\",\n",
    "    negative_sampling_ratio=0.5\n",
    ")\n"
   ]
  },
  {
   "cell_type": "code",
   "execution_count": null,
   "metadata": {},
   "outputs": [],
   "source": []
  }
 ],
 "metadata": {
  "kernelspec": {
   "display_name": "chrombpnet",
   "language": "python",
   "name": "python3"
  },
  "language_info": {
   "codemirror_mode": {
    "name": "ipython",
    "version": 3
   },
   "file_extension": ".py",
   "mimetype": "text/x-python",
   "name": "python",
   "nbconvert_exporter": "python",
   "pygments_lexer": "ipython3",
   "version": "3.8.20"
  }
 },
 "nbformat": 4,
 "nbformat_minor": 2
}
