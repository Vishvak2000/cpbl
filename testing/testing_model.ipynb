{
 "cells": [
  {
   "cell_type": "code",
   "execution_count": 1,
   "metadata": {},
   "outputs": [],
   "source": [
    "import torch\n",
    "import torch.nn as nn\n",
    "\n",
    "import sys\n",
    "import os\n",
    "\n",
    "# Add the parent directory to the Python path\n",
    "sys.path.append(os.path.abspath(os.path.join('..')))\n",
    "\n",
    "from models._model import CBPLTrainer"
   ]
  },
  {
   "cell_type": "code",
   "execution_count": 2,
   "metadata": {},
   "outputs": [],
   "source": [
    "config = {\n",
    "    \"peak_regions\":\"/gladstone/corces/lab/users/vishvak/chrombpnet_tutorial/own_data/test.chr1.adjusted.bed\",\n",
    "    \"nonpeak_regions\":\"/gladstone/corces/lab/users/vishvak/chrombpnet_tutorial/own_data/test.chr1.negatives.adjusted.bed\",\n",
    "    \"genome_fasta\":\"/gladstone/corces/lab/users/vishvak/chrombpnet_tutorial/own_data/chr1.fa\",\n",
    "    \"cts_bw_file\":\"/gladstone/corces/lab/users/vishvak/chrombpnet_tutorial/own_data/test.chr1.bw\",\n",
    "    \"negative_sampling_ratio\":8,\n",
    "    \"train_size\": 0.7,\n",
    "    \"batch_size\": 32,\n",
    "    \"filters\": 64,\n",
    "    \"n_dil_layers\": 3,\n",
    "    \"conv1_kernel_size\": 7,\n",
    "    \"dilation_kernel_size\" : 3,\n",
    "    \"profile_kernel_size\": 5,\n",
    "    \"num_tasks\": 1,\n",
    "    \"sequence_len\": 1000,\n",
    "    \"out_pred_len\": 1000,\n",
    "    \"learning_rate\": 0.001,\n",
    "}"
   ]
  },
  {
   "cell_type": "code",
   "execution_count": 3,
   "metadata": {},
   "outputs": [
    {
     "name": "stdout",
     "output_type": "stream",
     "text": [
      "Read in bed file of 6013 peaks\n",
      "Read in bed file of 16900 peaks\n",
      "Peak length = 1000    6013\n",
      "Name: count, dtype: int64\n",
      "Peak length = 1000    16900\n",
      "Name: count, dtype: int64\n",
      "Successfully loaded in data with 6013 positive and 16900 nonpeak regions!\n"
     ]
    }
   ],
   "source": [
    "trainer =  CBPLTrainer(config)"
   ]
  },
  {
   "cell_type": "code",
   "execution_count": 4,
   "metadata": {},
   "outputs": [
    {
     "data": {
      "text/plain": [
       "torch.Size([22913, 4, 1000])"
      ]
     },
     "execution_count": 4,
     "metadata": {},
     "output_type": "execute_result"
    }
   ],
   "source": [
    "trainer.dataset.seqs.shape"
   ]
  },
  {
   "cell_type": "code",
   "execution_count": 5,
   "metadata": {},
   "outputs": [],
   "source": [
    "for batch in trainer.train_dataloader:\n",
    "    inputs, targets = batch\n",
    "    break  "
   ]
  },
  {
   "cell_type": "code",
   "execution_count": 6,
   "metadata": {},
   "outputs": [
    {
     "data": {
      "text/plain": [
       "torch.Size([32, 4, 1000])"
      ]
     },
     "execution_count": 6,
     "metadata": {},
     "output_type": "execute_result"
    }
   ],
   "source": [
    "inputs.shape"
   ]
  },
  {
   "cell_type": "code",
   "execution_count": 7,
   "metadata": {},
   "outputs": [
    {
     "data": {
      "text/plain": [
       "torch.Size([32, 1000])"
      ]
     },
     "execution_count": 7,
     "metadata": {},
     "output_type": "execute_result"
    }
   ],
   "source": [
    "targets.shape"
   ]
  },
  {
   "cell_type": "code",
   "execution_count": 4,
   "metadata": {},
   "outputs": [
    {
     "data": {
      "text/plain": [
       "BPNetLightning(\n",
       "  (mse_loss): MSELoss()\n",
       "  (initial_conv): CNNModule(\n",
       "    (conv): Conv1d(4, 64, kernel_size=(7,), stride=(1,), padding=(3,))\n",
       "    (activation): ReLU()\n",
       "  )\n",
       "  (dilated_convs): ModuleList(\n",
       "    (0): DilatedConvModule(\n",
       "      (conv): Conv1d(64, 64, kernel_size=(3,), stride=(1,), padding=(2,), dilation=(2,))\n",
       "      (activation): ReLU()\n",
       "    )\n",
       "    (1): DilatedConvModule(\n",
       "      (conv): Conv1d(64, 64, kernel_size=(3,), stride=(1,), padding=(4,), dilation=(4,))\n",
       "      (activation): ReLU()\n",
       "    )\n",
       "    (2): DilatedConvModule(\n",
       "      (conv): Conv1d(64, 64, kernel_size=(3,), stride=(1,), padding=(8,), dilation=(8,))\n",
       "      (activation): ReLU()\n",
       "    )\n",
       "  )\n",
       "  (profile_conv): CNNModule(\n",
       "    (conv): Conv1d(64, 1, kernel_size=(5,), stride=(1,), padding=(2,))\n",
       "    (activation): ReLU()\n",
       "  )\n",
       "  (profile_crop): Cropping1D()\n",
       "  (global_avg_pool): GlobalAvgPool1D()\n",
       "  (count_dense): Linear(in_features=1000, out_features=1000, bias=True)\n",
       "  (flatten): Flatten(\n",
       "    (flatten): Flatten(start_dim=1, end_dim=-1)\n",
       "  )\n",
       ")"
      ]
     },
     "execution_count": 4,
     "metadata": {},
     "output_type": "execute_result"
    }
   ],
   "source": [
    "trainer.model"
   ]
  },
  {
   "cell_type": "markdown",
   "metadata": {},
   "source": []
  },
  {
   "cell_type": "code",
   "execution_count": 5,
   "metadata": {},
   "outputs": [
    {
     "name": "stderr",
     "output_type": "stream",
     "text": [
      "GPU available: False, used: False\n",
      "TPU available: False, using: 0 TPU cores\n",
      "HPU available: False, using: 0 HPUs\n",
      "2024-10-04 15:59:22.042643: W tensorflow/stream_executor/platform/default/dso_loader.cc:64] Could not load dynamic library 'libcudart.so.11.0'; dlerror: libcudart.so.11.0: cannot open shared object file: No such file or directory\n",
      "2024-10-04 15:59:22.042675: I tensorflow/stream_executor/cuda/cudart_stub.cc:29] Ignore above cudart dlerror if you do not have a GPU set up on your machine.\n",
      "\n",
      "  | Name            | Type            | Params | Mode \n",
      "------------------------------------------------------------\n",
      "0 | mse_loss        | MSELoss         | 0      | train\n",
      "1 | initial_conv    | CNNModule       | 1.9 K  | train\n",
      "2 | dilated_convs   | ModuleList      | 37.1 K | train\n",
      "3 | profile_conv    | CNNModule       | 321    | train\n",
      "4 | profile_crop    | Cropping1D      | 0      | train\n",
      "5 | global_avg_pool | GlobalAvgPool1D | 0      | train\n",
      "6 | count_dense     | Linear          | 1.0 M  | train\n",
      "7 | flatten         | Flatten         | 0      | train\n",
      "------------------------------------------------------------\n",
      "1.0 M     Trainable params\n",
      "0         Non-trainable params\n",
      "1.0 M     Total params\n",
      "4.161     Total estimated model params size (MB)\n",
      "22        Modules in train mode\n",
      "0         Modules in eval mode\n"
     ]
    },
    {
     "name": "stdout",
     "output_type": "stream",
     "text": [
      "Epoch 1: 100%|██████████| 502/502 [00:20<00:00, 24.41it/s, v_num=0]        "
     ]
    },
    {
     "name": "stderr",
     "output_type": "stream",
     "text": [
      "`Trainer.fit` stopped: `max_epochs=2` reached.\n"
     ]
    },
    {
     "name": "stdout",
     "output_type": "stream",
     "text": [
      "Epoch 1: 100%|██████████| 502/502 [00:20<00:00, 24.35it/s, v_num=0]\n"
     ]
    }
   ],
   "source": [
    "trainer.fit(max_epochs=2,batch_size=64)"
   ]
  },
  {
   "cell_type": "code",
   "execution_count": null,
   "metadata": {},
   "outputs": [],
   "source": []
  }
 ],
 "metadata": {
  "kernelspec": {
   "display_name": "chrombpnet",
   "language": "python",
   "name": "python3"
  },
  "language_info": {
   "codemirror_mode": {
    "name": "ipython",
    "version": 3
   },
   "file_extension": ".py",
   "mimetype": "text/x-python",
   "name": "python",
   "nbconvert_exporter": "python",
   "pygments_lexer": "ipython3",
   "version": "3.8.20"
  }
 },
 "nbformat": 4,
 "nbformat_minor": 2
}
