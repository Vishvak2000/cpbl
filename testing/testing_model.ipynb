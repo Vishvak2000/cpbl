{
 "cells": [
  {
   "cell_type": "code",
   "execution_count": 9,
   "metadata": {},
   "outputs": [],
   "source": [
    "import torch\n",
    "import torch.nn as nn\n",
    "\n",
    "import sys\n",
    "import os\n",
    "\n",
    "# Add the parent directory to the Python path\n",
    "sys.path.append(os.path.abspath(os.path.join('..')))\n",
    "\n",
    "from models._model import CBPLTrainer"
   ]
  },
  {
   "cell_type": "code",
   "execution_count": 12,
   "metadata": {},
   "outputs": [],
   "source": [
    "config = {\n",
    "    \"peak_regions\":\"/gladstone/corces/lab/users/vishvak/chrombpnet_tutorial/own_data/test.chr1.chr2.chr3.bed\",\n",
    "    \"nonpeak_regions\":\"/gladstone/corces/lab/users/vishvak/chrombpnet_tutorial/own_data/test.chr1.negatives.adjusted.bed\",\n",
    "    \"genome_fasta\":\"/gladstone/corces/lab/users/vishvak/chrombpnet_tutorial/data/downloads/hg38.fa\",\n",
    "    \"cts_bw_file\":\"/gladstone/corces/lab/users/vishvak/chrombpnet_tutorial/own_data/ENCFF735AHG.bigWig\",\n",
    "    \"negative_sampling_ratio\":0.1,\n",
    "    \"train_size\": 0.7,\n",
    "    \"batch_size\": 32,\n",
    "    \"filters\": 64,\n",
    "    \"n_dil_layers\": 3,\n",
    "    \"conv1_kernel_size\": 21,\n",
    "    \"dilation_kernel_size\" : 3,\n",
    "    \"num_tasks\": 1,\n",
    "    \"input_seq_len\": 2564,\n",
    "    \"out_pred_len\": 500,\n",
    "    \"learning_rate\": 0.001,\n",
    "    \"dropout_rate\" : 0\n",
    "}"
   ]
  },
  {
   "cell_type": "code",
   "execution_count": null,
   "metadata": {},
   "outputs": [],
   "source": []
  },
  {
   "cell_type": "code",
   "execution_count": 13,
   "metadata": {},
   "outputs": [
    {
     "name": "stdout",
     "output_type": "stream",
     "text": [
      "Read in bed file of 20512 peaks\n",
      "Read in bed file of 16900 peaks\n",
      "Successfully loaded in data with 14781 positive and 1478 nonpeak regions!\n"
     ]
    },
    {
     "ename": "NameError",
     "evalue": "name 'KLDivLoss' is not defined",
     "output_type": "error",
     "traceback": [
      "\u001b[0;31m---------------------------------------------------------------------------\u001b[0m",
      "\u001b[0;31mNameError\u001b[0m                                 Traceback (most recent call last)",
      "\u001b[1;32m/corces/home/vishvak/pytorch_cbp/testing/testing_model.ipynb Cell 4\u001b[0m line \u001b[0;36m1\n\u001b[0;32m----> <a href='vscode-notebook-cell://ssh-remote%2Bpelayo/corces/home/vishvak/pytorch_cbp/testing/testing_model.ipynb#W2sdnNjb2RlLXJlbW90ZQ%3D%3D?line=0'>1</a>\u001b[0m trainer \u001b[39m=\u001b[39m  CBPLTrainer(config)\n",
      "File \u001b[0;32m~/pytorch_cbp/models/_model.py:35\u001b[0m, in \u001b[0;36mCBPLTrainer.__init__\u001b[0;34m(self, config)\u001b[0m\n\u001b[1;32m     29\u001b[0m \u001b[39mself\u001b[39m\u001b[39m.\u001b[39mtrain_dataloader, \u001b[39mself\u001b[39m\u001b[39m.\u001b[39mvalid_dataloader \u001b[39m=\u001b[39m \u001b[39mself\u001b[39m\u001b[39m.\u001b[39mdataset\u001b[39m.\u001b[39msplit(\n\u001b[1;32m     30\u001b[0m     train_size\u001b[39m=\u001b[39mconfig[\u001b[39m\"\u001b[39m\u001b[39mtrain_size\u001b[39m\u001b[39m\"\u001b[39m], \n\u001b[1;32m     31\u001b[0m     batch_size\u001b[39m=\u001b[39mconfig[\u001b[39m\"\u001b[39m\u001b[39mbatch_size\u001b[39m\u001b[39m\"\u001b[39m]\n\u001b[1;32m     32\u001b[0m )\n\u001b[1;32m     34\u001b[0m \u001b[39m# Instantiate the model\u001b[39;00m\n\u001b[0;32m---> 35\u001b[0m \u001b[39mself\u001b[39m\u001b[39m.\u001b[39mmodel \u001b[39m=\u001b[39m BPNetLightning(\n\u001b[1;32m     36\u001b[0m     filters\u001b[39m=\u001b[39;49mconfig[\u001b[39m\"\u001b[39;49m\u001b[39mfilters\u001b[39;49m\u001b[39m\"\u001b[39;49m],\n\u001b[1;32m     37\u001b[0m     n_dil_layers\u001b[39m=\u001b[39;49mconfig[\u001b[39m\"\u001b[39;49m\u001b[39mn_dil_layers\u001b[39;49m\u001b[39m\"\u001b[39;49m],\n\u001b[1;32m     38\u001b[0m     conv1_kernel_size\u001b[39m=\u001b[39;49mconfig[\u001b[39m\"\u001b[39;49m\u001b[39mconv1_kernel_size\u001b[39;49m\u001b[39m\"\u001b[39;49m],\n\u001b[1;32m     39\u001b[0m     dilation_kernel_size \u001b[39m=\u001b[39;49m config[\u001b[39m\"\u001b[39;49m\u001b[39mdilation_kernel_size\u001b[39;49m\u001b[39m\"\u001b[39;49m],\n\u001b[1;32m     40\u001b[0m     sequence_len\u001b[39m=\u001b[39;49mconfig[\u001b[39m\"\u001b[39;49m\u001b[39minput_seq_len\u001b[39;49m\u001b[39m\"\u001b[39;49m],\n\u001b[1;32m     41\u001b[0m     out_pred_len\u001b[39m=\u001b[39;49mconfig[\u001b[39m\"\u001b[39;49m\u001b[39mout_pred_len\u001b[39;49m\u001b[39m\"\u001b[39;49m],\n\u001b[1;32m     42\u001b[0m     learning_rate\u001b[39m=\u001b[39;49mconfig[\u001b[39m\"\u001b[39;49m\u001b[39mlearning_rate\u001b[39;49m\u001b[39m\"\u001b[39;49m],\n\u001b[1;32m     43\u001b[0m     dropout_rate \u001b[39m=\u001b[39;49m config[\u001b[39m\"\u001b[39;49m\u001b[39mdropout_rate\u001b[39;49m\u001b[39m\"\u001b[39;49m]\n\u001b[1;32m     44\u001b[0m )\n\u001b[1;32m     47\u001b[0m required_input_length \u001b[39m=\u001b[39m calculate_required_input_length(\u001b[39mself\u001b[39m\u001b[39m.\u001b[39mconfig[\u001b[39m'\u001b[39m\u001b[39mout_pred_len\u001b[39m\u001b[39m'\u001b[39m],config)\n\u001b[1;32m     48\u001b[0m \u001b[39mprint\u001b[39m(\u001b[39mf\u001b[39m\u001b[39m\"\u001b[39m\u001b[39mGiven config[\u001b[39m\u001b[39m'\u001b[39m\u001b[39mout_pred_len\u001b[39m\u001b[39m'\u001b[39m\u001b[39m] = \u001b[39m\u001b[39m{\u001b[39;00m\u001b[39mself\u001b[39m\u001b[39m.\u001b[39mconfig[\u001b[39m'\u001b[39m\u001b[39mout_pred_len\u001b[39m\u001b[39m'\u001b[39m]\u001b[39m}\u001b[39;00m\u001b[39m, we need input_len = \u001b[39m\u001b[39m{\u001b[39;00mrequired_input_length\u001b[39m}\u001b[39;00m\u001b[39m \u001b[39m\u001b[39m\\n\u001b[39;00m\u001b[39m\"\u001b[39m)\n",
      "File \u001b[0;32m~/pytorch_cbp/models/_module.py:23\u001b[0m, in \u001b[0;36mBPNetLightning.__init__\u001b[0;34m(self, filters, n_dil_layers, conv1_kernel_size, dilation_kernel_size, sequence_len, out_pred_len, learning_rate, dropout_rate)\u001b[0m\n\u001b[1;32m     21\u001b[0m \u001b[39mself\u001b[39m\u001b[39m.\u001b[39msave_hyperparameters()\n\u001b[1;32m     22\u001b[0m \u001b[39mself\u001b[39m\u001b[39m.\u001b[39mmse_loss \u001b[39m=\u001b[39m MSELoss()\n\u001b[0;32m---> 23\u001b[0m \u001b[39mself\u001b[39m\u001b[39m.\u001b[39mkl_loss \u001b[39m=\u001b[39m KLDivLoss()\n\u001b[1;32m     25\u001b[0m \u001b[39m# Initial conv with no padding (valid padding)\u001b[39;00m\n\u001b[1;32m     26\u001b[0m \u001b[39mself\u001b[39m\u001b[39m.\u001b[39minitial_conv \u001b[39m=\u001b[39m CNNModule(in_channels\u001b[39m=\u001b[39m\u001b[39m4\u001b[39m,\n\u001b[1;32m     27\u001b[0m                             out_channels\u001b[39m=\u001b[39mfilters, \n\u001b[1;32m     28\u001b[0m                             kernel_size\u001b[39m=\u001b[39mconv1_kernel_size, \n\u001b[1;32m     29\u001b[0m                             padding\u001b[39m=\u001b[39m\u001b[39m0\u001b[39m)  \u001b[39m# Changed to no padding\u001b[39;00m\n",
      "\u001b[0;31mNameError\u001b[0m: name 'KLDivLoss' is not defined"
     ]
    }
   ],
   "source": [
    "trainer =  CBPLTrainer(config)"
   ]
  },
  {
   "cell_type": "code",
   "execution_count": 9,
   "metadata": {},
   "outputs": [
    {
     "data": {
      "text/plain": [
       "BPNetLightning(\n",
       "  (mse_loss): MSELoss()\n",
       "  (initial_conv): CNNModule(\n",
       "    (conv): Conv1d(4, 64, kernel_size=(21,), stride=(1,))\n",
       "    (activation): ReLU()\n",
       "  )\n",
       "  (dilated_convs): ModuleList(\n",
       "    (0): DilatedConvModule(\n",
       "      (conv): Conv1d(64, 64, kernel_size=(3,), stride=(1,), dilation=(2,))\n",
       "      (activation): ReLU()\n",
       "    )\n",
       "    (1): DilatedConvModule(\n",
       "      (conv): Conv1d(64, 64, kernel_size=(3,), stride=(1,), dilation=(4,))\n",
       "      (activation): ReLU()\n",
       "    )\n",
       "    (2): DilatedConvModule(\n",
       "      (conv): Conv1d(64, 64, kernel_size=(3,), stride=(1,), dilation=(8,))\n",
       "      (activation): ReLU()\n",
       "    )\n",
       "    (3): DilatedConvModule(\n",
       "      (conv): Conv1d(64, 64, kernel_size=(3,), stride=(1,), dilation=(16,))\n",
       "      (activation): ReLU()\n",
       "    )\n",
       "    (4): DilatedConvModule(\n",
       "      (conv): Conv1d(64, 64, kernel_size=(3,), stride=(1,), dilation=(32,))\n",
       "      (activation): ReLU()\n",
       "    )\n",
       "    (5): DilatedConvModule(\n",
       "      (conv): Conv1d(64, 64, kernel_size=(3,), stride=(1,), dilation=(64,))\n",
       "      (activation): ReLU()\n",
       "    )\n",
       "    (6): DilatedConvModule(\n",
       "      (conv): Conv1d(64, 64, kernel_size=(3,), stride=(1,), dilation=(128,))\n",
       "      (activation): ReLU()\n",
       "    )\n",
       "    (7): DilatedConvModule(\n",
       "      (conv): Conv1d(64, 64, kernel_size=(3,), stride=(1,), dilation=(256,))\n",
       "      (activation): ReLU()\n",
       "    )\n",
       "    (8): DilatedConvModule(\n",
       "      (conv): Conv1d(64, 64, kernel_size=(3,), stride=(1,), dilation=(512,))\n",
       "      (activation): ReLU()\n",
       "    )\n",
       "  )\n",
       "  (crop_layers): ModuleList(\n",
       "    (0-8): 9 x Cropping1D()\n",
       "  )\n",
       "  (global_avg_pool): GlobalAvgPool1D()\n",
       "  (count_dense): Linear(in_features=64, out_features=1000, bias=True)\n",
       ")"
      ]
     },
     "execution_count": 9,
     "metadata": {},
     "output_type": "execute_result"
    }
   ],
   "source": [
    "trainer.model"
   ]
  },
  {
   "cell_type": "code",
   "execution_count": 4,
   "metadata": {},
   "outputs": [
    {
     "data": {
      "text/plain": [
       "torch.Size([10823, 4, 3106])"
      ]
     },
     "execution_count": 4,
     "metadata": {},
     "output_type": "execute_result"
    }
   ],
   "source": [
    "trainer.dataset.seqs.shape #old"
   ]
  },
  {
   "cell_type": "code",
   "execution_count": 7,
   "metadata": {},
   "outputs": [
    {
     "data": {
      "text/plain": [
       "torch.Size([22913, 4, 3106])"
      ]
     },
     "execution_count": 7,
     "metadata": {},
     "output_type": "execute_result"
    }
   ],
   "source": [
    "trainer.dataset.seqs.shape #new"
   ]
  },
  {
   "cell_type": "code",
   "execution_count": 8,
   "metadata": {},
   "outputs": [
    {
     "data": {
      "text/plain": [
       "torch.Size([22913, 1000])"
      ]
     },
     "execution_count": 8,
     "metadata": {},
     "output_type": "execute_result"
    }
   ],
   "source": [
    "trainer.dataset.cts.shape #new"
   ]
  },
  {
   "cell_type": "code",
   "execution_count": 7,
   "metadata": {},
   "outputs": [
    {
     "data": {
      "text/plain": [
       "array([['chr1', '100038498', 'f', '1'],\n",
       "       ['chr1', '100047038', 'f', '1'],\n",
       "       ['chr1', '100132973', 'f', '1'],\n",
       "       ...,\n",
       "       ['chr1', '232944057', 'f', '0'],\n",
       "       ['chr1', '87139057', 'f', '0'],\n",
       "       ['chr1', '57972057', 'f', '0']], dtype='<U21')"
      ]
     },
     "execution_count": 7,
     "metadata": {},
     "output_type": "execute_result"
    }
   ],
   "source": [
    "trainer.dataset.coords"
   ]
  },
  {
   "cell_type": "code",
   "execution_count": 7,
   "metadata": {},
   "outputs": [
    {
     "data": {
      "text/plain": [
       "torch.Size([32, 4, 3106])"
      ]
     },
     "execution_count": 7,
     "metadata": {},
     "output_type": "execute_result"
    }
   ],
   "source": [
    "inputs.shape"
   ]
  },
  {
   "cell_type": "code",
   "execution_count": 8,
   "metadata": {},
   "outputs": [
    {
     "data": {
      "text/plain": [
       "torch.Size([32, 1000])"
      ]
     },
     "execution_count": 8,
     "metadata": {},
     "output_type": "execute_result"
    }
   ],
   "source": [
    "targets.shape"
   ]
  },
  {
   "cell_type": "code",
   "execution_count": 9,
   "metadata": {},
   "outputs": [
    {
     "data": {
      "text/plain": [
       "BPNetLightning(\n",
       "  (mse_loss): MSELoss()\n",
       "  (initial_conv): CNNModule(\n",
       "    (conv): Conv1d(4, 64, kernel_size=(64,), stride=(1,))\n",
       "    (activation): ReLU()\n",
       "  )\n",
       "  (dilated_convs): ModuleList(\n",
       "    (0): DilatedConvModule(\n",
       "      (conv): Conv1d(64, 64, kernel_size=(3,), stride=(1,), dilation=(2,))\n",
       "      (activation): ReLU()\n",
       "    )\n",
       "    (1): DilatedConvModule(\n",
       "      (conv): Conv1d(64, 64, kernel_size=(3,), stride=(1,), dilation=(4,))\n",
       "      (activation): ReLU()\n",
       "    )\n",
       "    (2): DilatedConvModule(\n",
       "      (conv): Conv1d(64, 64, kernel_size=(3,), stride=(1,), dilation=(8,))\n",
       "      (activation): ReLU()\n",
       "    )\n",
       "    (3): DilatedConvModule(\n",
       "      (conv): Conv1d(64, 64, kernel_size=(3,), stride=(1,), dilation=(16,))\n",
       "      (activation): ReLU()\n",
       "    )\n",
       "    (4): DilatedConvModule(\n",
       "      (conv): Conv1d(64, 64, kernel_size=(3,), stride=(1,), dilation=(32,))\n",
       "      (activation): ReLU()\n",
       "    )\n",
       "    (5): DilatedConvModule(\n",
       "      (conv): Conv1d(64, 64, kernel_size=(3,), stride=(1,), dilation=(64,))\n",
       "      (activation): ReLU()\n",
       "    )\n",
       "    (6): DilatedConvModule(\n",
       "      (conv): Conv1d(64, 64, kernel_size=(3,), stride=(1,), dilation=(128,))\n",
       "      (activation): ReLU()\n",
       "    )\n",
       "    (7): DilatedConvModule(\n",
       "      (conv): Conv1d(64, 64, kernel_size=(3,), stride=(1,), dilation=(256,))\n",
       "      (activation): ReLU()\n",
       "    )\n",
       "    (8): DilatedConvModule(\n",
       "      (conv): Conv1d(64, 64, kernel_size=(3,), stride=(1,), dilation=(512,))\n",
       "      (activation): ReLU()\n",
       "    )\n",
       "  )\n",
       "  (crop_layers): ModuleList(\n",
       "    (0-8): 9 x Cropping1D()\n",
       "  )\n",
       "  (global_avg_pool): GlobalAvgPool1D()\n",
       "  (count_dense): Linear(in_features=64, out_features=1000, bias=True)\n",
       ")"
      ]
     },
     "execution_count": 9,
     "metadata": {},
     "output_type": "execute_result"
    }
   ],
   "source": [
    "trainer.model"
   ]
  },
  {
   "cell_type": "markdown",
   "metadata": {},
   "source": []
  },
  {
   "cell_type": "code",
   "execution_count": 5,
   "metadata": {},
   "outputs": [
    {
     "ename": "NameError",
     "evalue": "name 'trainer' is not defined",
     "output_type": "error",
     "traceback": [
      "\u001b[0;31m---------------------------------------------------------------------------\u001b[0m",
      "\u001b[0;31mNameError\u001b[0m                                 Traceback (most recent call last)",
      "\u001b[1;32m/corces/home/vishvak/pytorch_cbp/testing/testing_model.ipynb Cell 13\u001b[0m line \u001b[0;36m1\n\u001b[0;32m----> <a href='vscode-notebook-cell://ssh-remote%2Bpelayo/corces/home/vishvak/pytorch_cbp/testing/testing_model.ipynb#X15sdnNjb2RlLXJlbW90ZQ%3D%3D?line=0'>1</a>\u001b[0m \u001b[39mfor\u001b[39;00m batch \u001b[39min\u001b[39;00m trainer\u001b[39m.\u001b[39mtrain_dataloader:\n\u001b[1;32m      <a href='vscode-notebook-cell://ssh-remote%2Bpelayo/corces/home/vishvak/pytorch_cbp/testing/testing_model.ipynb#X15sdnNjb2RlLXJlbW90ZQ%3D%3D?line=1'>2</a>\u001b[0m     inputs, targets \u001b[39m=\u001b[39m batch\n\u001b[1;32m      <a href='vscode-notebook-cell://ssh-remote%2Bpelayo/corces/home/vishvak/pytorch_cbp/testing/testing_model.ipynb#X15sdnNjb2RlLXJlbW90ZQ%3D%3D?line=2'>3</a>\u001b[0m     \u001b[39mbreak\u001b[39;00m  \n",
      "\u001b[0;31mNameError\u001b[0m: name 'trainer' is not defined"
     ]
    }
   ],
   "source": [
    "for batch in trainer.train_dataloader:\n",
    "    inputs, targets = batch\n",
    "    break  \n",
    "trainer.model.forward_test(inputs)"
   ]
  },
  {
   "cell_type": "code",
   "execution_count": 4,
   "metadata": {},
   "outputs": [
    {
     "ename": "NameError",
     "evalue": "name 'targets' is not defined",
     "output_type": "error",
     "traceback": [
      "\u001b[0;31m---------------------------------------------------------------------------\u001b[0m",
      "\u001b[0;31mNameError\u001b[0m                                 Traceback (most recent call last)",
      "\u001b[1;32m/corces/home/vishvak/pytorch_cbp/testing/testing_model.ipynb Cell 14\u001b[0m line \u001b[0;36m2\n\u001b[1;32m      <a href='vscode-notebook-cell://ssh-remote%2Bpelayo/corces/home/vishvak/pytorch_cbp/testing/testing_model.ipynb#X16sdnNjb2RlLXJlbW90ZQ%3D%3D?line=0'>1</a>\u001b[0m \u001b[39mimport\u001b[39;00m \u001b[39mmatplotlib\u001b[39;00m\u001b[39m.\u001b[39;00m\u001b[39mpyplot\u001b[39;00m \u001b[39mas\u001b[39;00m \u001b[39mplt\u001b[39;00m\n\u001b[0;32m----> <a href='vscode-notebook-cell://ssh-remote%2Bpelayo/corces/home/vishvak/pytorch_cbp/testing/testing_model.ipynb#X16sdnNjb2RlLXJlbW90ZQ%3D%3D?line=1'>2</a>\u001b[0m plt\u001b[39m.\u001b[39mplot(targets[\u001b[39m1\u001b[39m])\n",
      "\u001b[0;31mNameError\u001b[0m: name 'targets' is not defined"
     ]
    }
   ],
   "source": [
    "import matplotlib.pyplot as plt\n",
    "plt.plot(targets[1])"
   ]
  },
  {
   "cell_type": "code",
   "execution_count": 27,
   "metadata": {},
   "outputs": [
    {
     "data": {
      "text/plain": [
       "[<matplotlib.lines.Line2D at 0x7f2124835c70>]"
      ]
     },
     "execution_count": 27,
     "metadata": {},
     "output_type": "execute_result"
    },
    {
     "data": {
      "image/png": "[encoded data removed]",
      "text/plain": [
       "<Figure size 640x480 with 1 Axes>"
      ]
     },
     "metadata": {},
     "output_type": "display_data"
    }
   ],
   "source": [
    "plt.plot(trainer.dataset.cts[49])"
   ]
  },
  {
   "cell_type": "code",
   "execution_count": null,
   "metadata": {},
   "outputs": [],
   "source": []
  }
 ],
 "metadata": {
  "kernelspec": {
   "display_name": "chrombpnet",
   "language": "python",
   "name": "python3"
  },
  "language_info": {
   "codemirror_mode": {
    "name": "ipython",
    "version": 3
   },
   "file_extension": ".py",
   "mimetype": "text/x-python",
   "name": "python",
   "nbconvert_exporter": "python",
   "pygments_lexer": "ipython3",
   "version": "3.8.20"
  }
 },
 "nbformat": 4,
 "nbformat_minor": 2
}
