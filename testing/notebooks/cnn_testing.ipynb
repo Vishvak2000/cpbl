{
 "cells": [
  {
   "cell_type": "code",
   "execution_count": 1,
   "metadata": {},
   "outputs": [],
   "source": [
    "import torch\n",
    "import torch.nn as nn"
   ]
  },
  {
   "cell_type": "code",
   "execution_count": 2,
   "metadata": {},
   "outputs": [
    {
     "name": "stdout",
     "output_type": "stream",
     "text": [
      "/corces/home/vishvak/pytorch_cbp\n"
     ]
    }
   ],
   "source": []
  },
  {
   "cell_type": "code",
   "execution_count": null,
   "metadata": {},
   "outputs": [],
   "source": [
    "def test_conv_output_size(input_tensor, conv_layer):\n",
    "    output_tensor = conv_layer(input_tensor)\n",
    "    print(f\"Output size: {output_tensor.size()}\")"
   ]
  },
  {
   "cell_type": "code",
   "execution_count": null,
   "metadata": {},
   "outputs": [],
   "source": [
    "input_tensor = torch.randn(1, 4, 1000)  # 1 sequence, 4 channels (A, C, G, T), 1000 bases long\n"
   ]
  },
  {
   "cell_type": "code",
   "execution_count": null,
   "metadata": {},
   "outputs": [],
   "source": [
    "# Example 1: Convolution without padding and stride=1\n",
    "conv1 = nn.Conv1d(in_channels=4, out_channels=16, kernel_size=21, stride=1, padding=0)\n",
    "print(\"Example 1 - No Padding, Stride=1:\")\n",
    "test_conv_output_size(input_tensor, conv1)"
   ]
  },
  {
   "cell_type": "markdown",
   "metadata": {},
   "source": [
    "so basically the length decreased because we dont have padding, this is basically how convolution works, also notice we go from 4D sequence to 16 convolutional filters"
   ]
  },
  {
   "cell_type": "code",
   "execution_count": null,
   "metadata": {},
   "outputs": [],
   "source": [
    "\n",
    "# Example 2: Convolution with padding to maintain sequence length and stride=1\n",
    "conv2 = nn.Conv1d(in_channels=4, out_channels=16, kernel_size=21, stride=1, padding=10)\n",
    "print(\"Example 2 - Padding=10, Stride=1:\")\n",
    "test_conv_output_size(input_tensor, conv2)\n"
   ]
  },
  {
   "cell_type": "code",
   "execution_count": null,
   "metadata": {},
   "outputs": [],
   "source": [
    "\n",
    "# Example 3: Convolution with padding and stride=2\n",
    "conv3 = nn.Conv1d(in_channels=4, out_channels=16, kernel_size=21, stride=2, padding=10)\n",
    "print(\"Example 3 - Padding=10, Stride=2:\")\n",
    "test_conv_output_size(input_tensor, conv3)\n"
   ]
  },
  {
   "cell_type": "code",
   "execution_count": null,
   "metadata": {},
   "outputs": [],
   "source": [
    "\n",
    "# Example 4: Dilated convolution\n",
    "conv4 = nn.Conv1d(in_channels=4, out_channels=16, kernel_size=21, stride=1, padding=0, dilation=2)\n",
    "print(\"Example 4 - No Padding, Stride=1, Dilation=2:\")\n",
    "test_conv_output_size(input_tensor, conv4)\n"
   ]
  },
  {
   "cell_type": "code",
   "execution_count": null,
   "metadata": {},
   "outputs": [],
   "source": [
    "\n",
    "\n",
    "# Example 5: Dilated convolution with padding\n",
    "conv5 = nn.Conv1d(in_channels=4, out_channels=16, kernel_size=21, stride=1, padding=20, dilation=2)\n",
    "print(\"Example 5 - Padding=20, Stride=1, Dilation=2:\")\n",
    "test_conv_output_size(input_tensor, conv5)"
   ]
  },
  {
   "cell_type": "code",
   "execution_count": null,
   "metadata": {},
   "outputs": [],
   "source": [
    "conv_layer"
   ]
  },
  {
   "cell_type": "markdown",
   "metadata": {},
   "source": [
    "Testing the dataloader"
   ]
  },
  {
   "cell_type": "code",
   "execution_count": 3,
   "metadata": {},
   "outputs": [
    {
     "ename": "ModuleNotFoundError",
     "evalue": "No module named 'one_hot'",
     "output_type": "error",
     "traceback": [
      "\u001b[0;31m---------------------------------------------------------------------------\u001b[0m",
      "\u001b[0;31mModuleNotFoundError\u001b[0m                       Traceback (most recent call last)",
      "\u001b[1;32m/corces/home/vishvak/pytorch_cbp/testing_notebooks/cnn_testing.ipynb Cell 13\u001b[0m line \u001b[0;36m1\n\u001b[0;32m----> <a href='vscode-notebook-cell://ssh-remote%2Bpelayo/corces/home/vishvak/pytorch_cbp/testing_notebooks/cnn_testing.ipynb#X14sdnNjb2RlLXJlbW90ZQ%3D%3D?line=0'>1</a>\u001b[0m \u001b[39mfrom\u001b[39;00m \u001b[39mmodels\u001b[39;00m\u001b[39m.\u001b[39;00m\u001b[39m_data\u001b[39;00m \u001b[39mimport\u001b[39;00m ChromatinDataset\n",
      "File \u001b[0;32m~/pytorch_cbp/models/_data.py:4\u001b[0m\n\u001b[1;32m      2\u001b[0m \u001b[39mfrom\u001b[39;00m \u001b[39mtorch\u001b[39;00m\u001b[39m.\u001b[39;00m\u001b[39mutils\u001b[39;00m\u001b[39m.\u001b[39;00m\u001b[39mdata\u001b[39;00m \u001b[39mimport\u001b[39;00m Dataset\n\u001b[1;32m      3\u001b[0m \u001b[39mimport\u001b[39;00m \u001b[39mnumpy\u001b[39;00m \u001b[39mas\u001b[39;00m \u001b[39mnp\u001b[39;00m\n\u001b[0;32m----> 4\u001b[0m \u001b[39mfrom\u001b[39;00m \u001b[39mutils\u001b[39;00m \u001b[39mimport\u001b[39;00m data_utils\n\u001b[1;32m      6\u001b[0m \u001b[39mclass\u001b[39;00m \u001b[39mChromatinDataset\u001b[39;00m(Dataset):\n\u001b[1;32m      7\u001b[0m     \u001b[39mdef\u001b[39;00m \u001b[39m__init__\u001b[39m(\u001b[39mself\u001b[39m, \n\u001b[1;32m      8\u001b[0m                  peak_regions, \n\u001b[1;32m      9\u001b[0m                  nonpeak_regions, \n\u001b[0;32m   (...)\u001b[0m\n\u001b[1;32m     15\u001b[0m                  negative_sampling_ratio):\n\u001b[1;32m     16\u001b[0m         \u001b[39m# Load data using the provided utility function\u001b[39;00m\n",
      "File \u001b[0;32m~/pytorch_cbp/utils/data_utils.py:5\u001b[0m\n\u001b[1;32m      3\u001b[0m \u001b[39mimport\u001b[39;00m \u001b[39mpyBigWig\u001b[39;00m\n\u001b[1;32m      4\u001b[0m \u001b[39mimport\u001b[39;00m \u001b[39mpyfaidx\u001b[39;00m\n\u001b[0;32m----> 5\u001b[0m \u001b[39mimport\u001b[39;00m \u001b[39mone_hot\u001b[39;00m\n\u001b[1;32m      7\u001b[0m \u001b[39mdef\u001b[39;00m \u001b[39mprocess_bed\u001b[39m(tsv_path):\n\u001b[1;32m      8\u001b[0m \u001b[39m    \u001b[39m\u001b[39m\"\"\"Read a TSV file, select the first 3 columns, and rename them.\"\"\"\u001b[39;00m\n",
      "\u001b[0;31mModuleNotFoundError\u001b[0m: No module named 'one_hot'"
     ]
    }
   ],
   "source": [
    "from models._data import ChromatinDataset"
   ]
  },
  {
   "cell_type": "code",
   "execution_count": null,
   "metadata": {},
   "outputs": [],
   "source": [
    "dataset = ChromatinDataset(\n",
    "    peak_regions=\"/gladstone/corces/lab/users/vishvak/chrombpnet_tutorial/data/peaks_no_blacklist.1000.bed\",\n",
    "    nonpeak_regions=\"/gladstone/corces/lab/users/vishvak/chrombpnet_tutorial/data/output_negatives.1000.bed\",\n",
    "    genome_fasta=\"/gladstone/corces/lab/users/vishvak/chrombpnet_tutorial/data/downloads/hg38.fa\",\n",
    "    cts_bw_file=\"/gladstone/corces/lab/users/vishvak/chrombpnet_tutorial/own_data/ENCFF217FGC.bigWig\",\n",
    "    inputlen=100,\n",
    "    outputlen=100,\n",
    "    max_jitter=50,\n",
    "    negative_sampling_ratio=0.5\n",
    ")\n"
   ]
  },
  {
   "cell_type": "code",
   "execution_count": null,
   "metadata": {},
   "outputs": [],
   "source": [
    "import pyBigWig\n",
    "import pyfaidx"
   ]
  },
  {
   "cell_type": "markdown",
   "metadata": {},
   "source": []
  },
  {
   "cell_type": "code",
   "execution_count": null,
   "metadata": {},
   "outputs": [],
   "source": [
    "cts_bw = pyBigWig.open(\"/gladstone/corces/lab/users/vishvak/chrombpnet_tutorial/own_data/ENCFF217FGC.bigWig\")\n"
   ]
  },
  {
   "cell_type": "code",
   "execution_count": null,
   "metadata": {},
   "outputs": [],
   "source": [
    "genome = pyfaidx.Fasta(\"/gladstone/corces/lab/users/vishvak/chrombpnet_tutorial/data/downloads/hg38.fa\")"
   ]
  },
  {
   "cell_type": "code",
   "execution_count": null,
   "metadata": {},
   "outputs": [],
   "source": [
    "genome"
   ]
  },
  {
   "cell_type": "code",
   "execution_count": null,
   "metadata": {},
   "outputs": [],
   "source": [
    "import pandas as pd\n",
    "pd.read_csv(\"/gladstone/corces/lab/users/vishvak/chrombpnet_tutorial/data/peaks_no_blacklist.bed\",sep='\\t',\n",
    "            cols=['chr','start','end'])"
   ]
  },
  {
   "cell_type": "code",
   "execution_count": null,
   "metadata": {},
   "outputs": [],
   "source": [
    "pd.read_csv()"
   ]
  }
 ],
 "metadata": {
  "kernelspec": {
   "display_name": "chrombpnet",
   "language": "python",
   "name": "python3"
  },
  "language_info": {
   "codemirror_mode": {
    "name": "ipython",
    "version": 3
   },
   "file_extension": ".py",
   "mimetype": "text/x-python",
   "name": "python",
   "nbconvert_exporter": "python",
   "pygments_lexer": "ipython3",
   "version": "3.8.20"
  }
 },
 "nbformat": 4,
 "nbformat_minor": 2
}
