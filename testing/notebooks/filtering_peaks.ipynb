{
 "cells": [
  {
   "cell_type": "code",
   "execution_count": 12,
   "metadata": {},
   "outputs": [],
   "source": [
    "import pyBigWig\n",
    "import pandas as pd\n",
    "\n",
    "# Paths to the BED and BigWig files\n",
    "bed_file = \"/gladstone/corces/lab/users/vishvak/chrombpnet_tutorial/pd_data/Microglia_peak_set_2.bed\"\n",
    "bigwig_file = \"/gladstone/corces/lab/users/vishvak/chrombpnet_tutorial/pd_data/nd_Microglia_merge.normalized.bw\"\n",
    "\n",
    "# Open the BigWig file\n",
    "bw = pyBigWig.open(bigwig_file)\n",
    "\n",
    "# Load the BED file into a DataFrame\n",
    "bed_df = pd.read_csv(bed_file, sep='\\t', usecols=[0, 1, 2])\n",
    "bed_df.columns = ['chrom', 'start', 'end']\n",
    "\n",
    "def calculate_average_read_depth(chrom, start, end):\n",
    "    values = bw.values(chrom, start, end, numpy=True)\n",
    "    return values.sum()\n",
    "\n",
    "# Calculate average read depth for each peak and store in a new column\n",
    "bed_df['average_read_depth'] = bed_df.apply(lambda row: calculate_average_read_depth(row['chrom'], row['start'], row['end']), axis=1)\n",
    "\n",
    "# Close the BigWig file\n",
    "bw.close()"
   ]
  },
  {
   "cell_type": "code",
   "execution_count": 13,
   "metadata": {},
   "outputs": [],
   "source": [
    "bw_unnorm = pyBigWig.open(\"/gladstone/corces/lab/users/vishvak/chrombpnet_tutorial/pd_data/nd_Microglia_merge.bw\")\n",
    "\n",
    "\n",
    "def calculate_average_read_depth(chrom, start, end):\n",
    "    values = bw_unnorm.values(chrom, start, end, numpy=True)\n",
    "    return values.mean()\n",
    "\n",
    "bed_df['average_read_depth_unnormalized'] = bed_df.apply(lambda row: calculate_average_read_depth(row['chrom'], row['start'], row['end']), axis=1)\n",
    "\n",
    "# Close the BigWig file\n",
    "bw_unnorm.close()"
   ]
  },
  {
   "cell_type": "code",
   "execution_count": 14,
   "metadata": {},
   "outputs": [
    {
     "data": {
      "text/html": [
       "<div>\n",
       "<style scoped>\n",
       "    .dataframe tbody tr th:only-of-type {\n",
       "        vertical-align: middle;\n",
       "    }\n",
       "\n",
       "    .dataframe tbody tr th {\n",
       "        vertical-align: top;\n",
       "    }\n",
       "\n",
       "    .dataframe thead th {\n",
       "        text-align: right;\n",
       "    }\n",
       "</style>\n",
       "<table border=\"1\" class=\"dataframe\">\n",
       "  <thead>\n",
       "    <tr style=\"text-align: right;\">\n",
       "      <th></th>\n",
       "      <th>chrom</th>\n",
       "      <th>start</th>\n",
       "      <th>end</th>\n",
       "      <th>average_read_depth</th>\n",
       "      <th>average_read_depth_unnormalized</th>\n",
       "    </tr>\n",
       "  </thead>\n",
       "  <tbody>\n",
       "    <tr>\n",
       "      <th>0</th>\n",
       "      <td>chr1</td>\n",
       "      <td>1908875</td>\n",
       "      <td>1909376</td>\n",
       "      <td>2.431534</td>\n",
       "      <td>2334.105713</td>\n",
       "    </tr>\n",
       "    <tr>\n",
       "      <th>1</th>\n",
       "      <td>chr1</td>\n",
       "      <td>2227720</td>\n",
       "      <td>2228221</td>\n",
       "      <td>2.028441</td>\n",
       "      <td>1947.163696</td>\n",
       "    </tr>\n",
       "    <tr>\n",
       "      <th>2</th>\n",
       "      <td>chr1</td>\n",
       "      <td>6613317</td>\n",
       "      <td>6613818</td>\n",
       "      <td>2.698731</td>\n",
       "      <td>2590.596924</td>\n",
       "    </tr>\n",
       "    <tr>\n",
       "      <th>3</th>\n",
       "      <td>chr1</td>\n",
       "      <td>7961265</td>\n",
       "      <td>7961766</td>\n",
       "      <td>2.251342</td>\n",
       "      <td>2161.133789</td>\n",
       "    </tr>\n",
       "    <tr>\n",
       "      <th>4</th>\n",
       "      <td>chr1</td>\n",
       "      <td>9129001</td>\n",
       "      <td>9129502</td>\n",
       "      <td>1.453836</td>\n",
       "      <td>1395.582886</td>\n",
       "    </tr>\n",
       "    <tr>\n",
       "      <th>...</th>\n",
       "      <td>...</td>\n",
       "      <td>...</td>\n",
       "      <td>...</td>\n",
       "      <td>...</td>\n",
       "      <td>...</td>\n",
       "    </tr>\n",
       "    <tr>\n",
       "      <th>151345</th>\n",
       "      <td>chr21</td>\n",
       "      <td>17411700</td>\n",
       "      <td>17412201</td>\n",
       "      <td>0.048696</td>\n",
       "      <td>46.744511</td>\n",
       "    </tr>\n",
       "    <tr>\n",
       "      <th>151346</th>\n",
       "      <td>chr21</td>\n",
       "      <td>43701281</td>\n",
       "      <td>43701782</td>\n",
       "      <td>0.052898</td>\n",
       "      <td>50.778442</td>\n",
       "    </tr>\n",
       "    <tr>\n",
       "      <th>151347</th>\n",
       "      <td>chr22</td>\n",
       "      <td>41994584</td>\n",
       "      <td>41995085</td>\n",
       "      <td>0.065484</td>\n",
       "      <td>62.860279</td>\n",
       "    </tr>\n",
       "    <tr>\n",
       "      <th>151348</th>\n",
       "      <td>chr22</td>\n",
       "      <td>45670973</td>\n",
       "      <td>45671474</td>\n",
       "      <td>0.100914</td>\n",
       "      <td>96.870262</td>\n",
       "    </tr>\n",
       "    <tr>\n",
       "      <th>151349</th>\n",
       "      <td>chrX</td>\n",
       "      <td>66017606</td>\n",
       "      <td>66018107</td>\n",
       "      <td>0.064858</td>\n",
       "      <td>62.259480</td>\n",
       "    </tr>\n",
       "  </tbody>\n",
       "</table>\n",
       "<p>151350 rows × 5 columns</p>\n",
       "</div>"
      ],
      "text/plain": [
       "        chrom     start       end  average_read_depth  \\\n",
       "0        chr1   1908875   1909376            2.431534   \n",
       "1        chr1   2227720   2228221            2.028441   \n",
       "2        chr1   6613317   6613818            2.698731   \n",
       "3        chr1   7961265   7961766            2.251342   \n",
       "4        chr1   9129001   9129502            1.453836   \n",
       "...       ...       ...       ...                 ...   \n",
       "151345  chr21  17411700  17412201            0.048696   \n",
       "151346  chr21  43701281  43701782            0.052898   \n",
       "151347  chr22  41994584  41995085            0.065484   \n",
       "151348  chr22  45670973  45671474            0.100914   \n",
       "151349   chrX  66017606  66018107            0.064858   \n",
       "\n",
       "        average_read_depth_unnormalized  \n",
       "0                           2334.105713  \n",
       "1                           1947.163696  \n",
       "2                           2590.596924  \n",
       "3                           2161.133789  \n",
       "4                           1395.582886  \n",
       "...                                 ...  \n",
       "151345                        46.744511  \n",
       "151346                        50.778442  \n",
       "151347                        62.860279  \n",
       "151348                        96.870262  \n",
       "151349                        62.259480  \n",
       "\n",
       "[151350 rows x 5 columns]"
      ]
     },
     "execution_count": 14,
     "metadata": {},
     "output_type": "execute_result"
    }
   ],
   "source": [
    "bed_df"
   ]
  },
  {
   "cell_type": "code",
   "execution_count": 22,
   "metadata": {},
   "outputs": [
    {
     "data": {
      "image/png": "[encoded data removed]",
      "text/plain": [
       "<Figure size 640x480 with 2 Axes>"
      ]
     },
     "metadata": {},
     "output_type": "display_data"
    }
   ],
   "source": [
    "import matplotlib.pyplot as plt\n",
    "import seaborn as sns\n",
    "fig, axs = plt.subplots(1, 2, sharey=False, tight_layout=True)\n",
    "sns.histplot(bed_df[\"average_read_depth\"],ax=axs[0])\n",
    "sns.histplot(bed_df[\"average_read_depth_unnormalized\"],ax=axs[1])\n",
    "plt.show()"
   ]
  },
  {
   "cell_type": "code",
   "execution_count": 29,
   "metadata": {},
   "outputs": [],
   "source": [
    "lower_bound = bed_df[\"average_read_depth\"].quantile(0.20)\n",
    "upper_bound = bed_df[\"average_read_depth\"].quantile(0.90)\n",
    "\n",
    "# Filter the DataFrame to include only rows with 'average_read_depth' between these bounds\n",
    "filtered_bed_df = bed_df[(bed_df[\"average_read_depth\"] >= lower_bound) & (bed_df[\"average_read_depth\"] <= upper_bound)]\n"
   ]
  },
  {
   "cell_type": "code",
   "execution_count": 30,
   "metadata": {},
   "outputs": [
    {
     "data": {
      "image/png": "[encoded data removed]",
      "text/plain": [
       "<Figure size 640x480 with 2 Axes>"
      ]
     },
     "metadata": {},
     "output_type": "display_data"
    }
   ],
   "source": [
    "\n",
    "fig, axs = plt.subplots(1, 2, sharey=False, tight_layout=True)\n",
    "sns.histplot(filtered_bed_df[\"average_read_depth\"],ax=axs[0])\n",
    "sns.histplot(filtered_bed_df[\"average_read_depth_unnormalized\"],ax=axs[1])\n",
    "plt.show()"
   ]
  },
  {
   "cell_type": "code",
   "execution_count": 31,
   "metadata": {},
   "outputs": [],
   "source": [
    "clean_bed_df = filtered_bed_df[[\"chrom\", \"start\", \"end\"]]\n",
    "clean_bed_df.to_csv(\"/gladstone/corces/lab/users/vishvak/chrombpnet_tutorial/pd_data/Microglia_peak_set_2.filtered.bed\", sep=\"\\t\", index=False, header=False)"
   ]
  },
  {
   "cell_type": "code",
   "execution_count": null,
   "metadata": {},
   "outputs": [],
   "source": []
  }
 ],
 "metadata": {
  "kernelspec": {
   "display_name": "chrombpnet",
   "language": "python",
   "name": "python3"
  },
  "language_info": {
   "codemirror_mode": {
    "name": "ipython",
    "version": 3
   },
   "file_extension": ".py",
   "mimetype": "text/x-python",
   "name": "python",
   "nbconvert_exporter": "python",
   "pygments_lexer": "ipython3",
   "version": "3.8.20"
  }
 },
 "nbformat": 4,
 "nbformat_minor": 2
}
